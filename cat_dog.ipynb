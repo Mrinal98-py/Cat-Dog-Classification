{
  "nbformat": 4,
  "nbformat_minor": 0,
  "metadata": {
    "colab": {
      "provenance": [],
      "mount_file_id": "19DpljkfMwSBxqUzvu53iuIO0UGUujLHo",
      "authorship_tag": "ABX9TyNJ1N3/V9ZEKkSsfw82bITw",
      "include_colab_link": true
    },
    "kernelspec": {
      "name": "python3",
      "display_name": "Python 3"
    },
    "language_info": {
      "name": "python"
    }
  },
  "cells": [
    {
      "cell_type": "markdown",
      "metadata": {
        "id": "view-in-github",
        "colab_type": "text"
      },
      "source": [
        "<a href=\"https://colab.research.google.com/github/Mrinal98-py/Cat-Dog-Classification/blob/main/cat_dog.ipynb\" target=\"_parent\"><img src=\"https://colab.research.google.com/assets/colab-badge.svg\" alt=\"Open In Colab\"/></a>"
      ]
    },
    {
      "cell_type": "markdown",
      "source": [],
      "metadata": {
        "id": "4wnh6FifCHiT"
      }
    },
    {
      "cell_type": "code",
      "source": [
        "pip install keras"
      ],
      "metadata": {
        "colab": {
          "base_uri": "https://localhost:8080/"
        },
        "id": "vMJTQZGdc9s6",
        "outputId": "179bfb67-82fb-4d37-96f0-0c4e1332356d"
      },
      "execution_count": null,
      "outputs": [
        {
          "output_type": "stream",
          "name": "stdout",
          "text": [
            "Looking in indexes: https://pypi.org/simple, https://us-python.pkg.dev/colab-wheels/public/simple/\n",
            "Requirement already satisfied: keras in /usr/local/lib/python3.9/dist-packages (2.11.0)\n"
          ]
        }
      ]
    },
    {
      "cell_type": "code",
      "source": [
        "import numpy as np\n",
        "import pandas as pd\n",
        "import matplotlib.pyplot as plt\n",
        "from keras import applications\n",
        "from tensorflow import keras\n",
        "from tensorflow.keras.preprocessing.image import ImageDataGenerator, load_img\n",
        "from sklearn.model_selection import train_test_split\n",
        "import os"
      ],
      "metadata": {
        "id": "6gFCxuwqz0P3"
      },
      "execution_count": null,
      "outputs": []
    },
    {
      "cell_type": "code",
      "source": [
        "Image_Width=128\n",
        "Image_Height=128\n",
        "Image_Size=(Image_Width,Image_Height)\n",
        "Image_Channels=3"
      ],
      "metadata": {
        "id": "hzrgR5JwYttT"
      },
      "execution_count": null,
      "outputs": []
    },
    {
      "cell_type": "code",
      "source": [
        "filenames=os.listdir(\"/content/drive/MyDrive/machime-data/Cat-and-dogs/train\")\n"
      ],
      "metadata": {
        "id": "MENrghBZexIy"
      },
      "execution_count": null,
      "outputs": []
    },
    {
      "cell_type": "code",
      "source": [
        "#filenames=os.listdir(\"/home/buddy/Documents/ml/cat_dog/train/\")\n",
        "\n",
        "categories=[]\n",
        "for f_name in filenames:\n",
        "    category=f_name.split('.')[0]\n",
        "    if category=='dog':\n",
        "        categories.append(1)\n",
        "    else:\n",
        "        categories.append(0)\n",
        "\n",
        "df=pd.DataFrame({\n",
        "    'filename':filenames,\n",
        "    'category':categories\n",
        "})"
      ],
      "metadata": {
        "id": "vuDqs1vYdzdy"
      },
      "execution_count": null,
      "outputs": []
    },
    {
      "cell_type": "code",
      "source": [
        "from keras.models import Sequential\n",
        "from keras.layers import Conv2D,MaxPooling2D,\\\n",
        "     Dropout,Flatten,Dense,Activation,\\\n",
        "     BatchNormalization\n",
        "\n",
        "model=Sequential()\n",
        "\n",
        "model.add(Conv2D(32,(3,3),activation='relu',input_shape=(Image_Width,Image_Height,Image_Channels)))\n",
        "model.add(BatchNormalization())\n",
        "model.add(MaxPooling2D(pool_size=(2,2)))\n",
        "model.add(Dropout(0.25))\n",
        "\n",
        "model.add(Conv2D(64,(3,3),activation='relu'))\n",
        "model.add(BatchNormalization())\n",
        "model.add(MaxPooling2D(pool_size=(2,2)))\n",
        "model.add(Dropout(0.25))\n",
        "\n",
        "model.add(Conv2D(128,(3,3),activation='relu'))\n",
        "model.add(BatchNormalization())\n",
        "model.add(MaxPooling2D(pool_size=(2,2)))\n",
        "model.add(Dropout(0.25))\n",
        "\n",
        "model.add(Flatten())\n",
        "model.add(Dense(512,activation='relu'))\n",
        "model.add(BatchNormalization())\n",
        "model.add(Dropout(0.5))\n",
        "model.add(Dense(2,activation='softmax'))\n",
        "\n",
        "model.compile(loss='categorical_crossentropy',\n",
        "  optimizer='rmsprop',metrics=['accuracy'])"
      ],
      "metadata": {
        "id": "4gLaNhMyd6YB"
      },
      "execution_count": null,
      "outputs": []
    },
    {
      "cell_type": "code",
      "source": [
        "model.summary()"
      ],
      "metadata": {
        "id": "JfL8wKrNhDjJ"
      },
      "execution_count": null,
      "outputs": []
    },
    {
      "cell_type": "code",
      "source": [
        "from keras.callbacks import EarlyStopping, ReduceLROnPlateau\n",
        "earlystop = EarlyStopping(patience = 10)\n",
        "learning_rate_reduction = ReduceLROnPlateau(monitor = 'val_acc',patience = 2,verbose = 1,factor = 0.5,min_lr = 0.00001)\n",
        "callbacks = [earlystop,learning_rate_reduction]"
      ],
      "metadata": {
        "id": "1CkRpnhmhHkS"
      },
      "execution_count": null,
      "outputs": []
    },
    {
      "cell_type": "code",
      "source": [
        "df[\"category\"] = df[\"category\"].replace({0:'cat',1:'dog'})\n",
        "train_df,validate_df = train_test_split(df,test_size=0.20,\n",
        "  random_state=42)\n",
        "\n",
        "train_df = train_df.reset_index(drop=True)\n",
        "validate_df = validate_df.reset_index(drop=True)\n",
        "\n",
        "total_train=train_df.shape[0]\n",
        "total_validate=validate_df.shape[0]\n",
        "batch_size=15"
      ],
      "metadata": {
        "id": "AFEMEt_0hMBv"
      },
      "execution_count": null,
      "outputs": []
    },
    {
      "cell_type": "code",
      "source": [
        "train_datagen = ImageDataGenerator(rotation_range=15,\n",
        "                                rescale=1./255,\n",
        "                                shear_range=0.1,\n",
        "                                zoom_range=0.2,\n",
        "                                horizontal_flip=True,\n",
        "                                width_shift_range=0.1,\n",
        "                                height_shift_range=0.1\n",
        "                                )\n",
        "\n",
        "train_generator = train_datagen.flow_from_dataframe(train_df,\n",
        "                                                 \"/content/drive/MyDrive/machime-data/Cat-and-dogs/train\",x_col='filename',y_col='category',\n",
        "                                                 target_size=Image_Size,\n",
        "                                                 class_mode='categorical',\n",
        "                                                 batch_size=batch_size)\n",
        "\n",
        "validation_datagen = ImageDataGenerator(rescale=1./255)\n",
        "validation_generator = validation_datagen.flow_from_dataframe(\n",
        "    validate_df, \n",
        "    \"/content/drive/MyDrive/machime-data/Cat-and-dogs/train\", \n",
        "    x_col='filename',\n",
        "    y_col='category',\n",
        "    target_size=Image_Size,\n",
        "    class_mode='categorical',\n",
        "    batch_size=batch_size\n",
        ")\n",
        "\n",
        "test_datagen = ImageDataGenerator(rotation_range=15,\n",
        "                                rescale=1./255,\n",
        "                                shear_range=0.1,\n",
        "                                zoom_range=0.2,\n",
        "                                horizontal_flip=True,\n",
        "                                width_shift_range=0.1,\n",
        "                                height_shift_range=0.1)\n",
        "\n",
        "test_generator = train_datagen.flow_from_dataframe(train_df,\n",
        "                                                 \"/content/drive/MyDrive/machime-data/Cat-and-dogs/test\",x_col='filename',y_col='category',\n",
        "                                                 target_size=Image_Size,\n",
        "                                                 class_mode='categorical',\n",
        "                                                 batch_size=batch_size)"
      ],
      "metadata": {
        "colab": {
          "base_uri": "https://localhost:8080/"
        },
        "id": "Y9etJbkGhOej",
        "outputId": "005e4b19-9927-4704-dd20-2c40d322f92d"
      },
      "execution_count": null,
      "outputs": [
        {
          "output_type": "stream",
          "name": "stdout",
          "text": [
            "Found 20040 validated image filenames belonging to 2 classes.\n",
            "Found 5010 validated image filenames belonging to 2 classes.\n",
            "Found 0 validated image filenames belonging to 0 classes.\n"
          ]
        },
        {
          "output_type": "stream",
          "name": "stderr",
          "text": [
            "/usr/local/lib/python3.9/dist-packages/keras/preprocessing/image.py:1137: UserWarning: Found 20040 invalid image filename(s) in x_col=\"filename\". These filename(s) will be ignored.\n",
            "  warnings.warn(\n"
          ]
        }
      ]
    },
    {
      "cell_type": "code",
      "source": [
        "epochs=1\n",
        "history = model.fit_generator(\n",
        "    train_generator, \n",
        "    epochs=epochs,\n",
        "    validation_data=validation_generator,\n",
        "    validation_steps=total_validate//batch_size,\n",
        "    steps_per_epoch=total_train//batch_size,\n",
        "    callbacks=callbacks\n",
        ")"
      ],
      "metadata": {
        "colab": {
          "base_uri": "https://localhost:8080/"
        },
        "id": "YEGVDsIYhTIf",
        "outputId": "1ebb50c8-1245-47e9-bfa8-d8bd3d51f44b"
      },
      "execution_count": null,
      "outputs": [
        {
          "metadata": {
            "tags": null
          },
          "name": "stderr",
          "output_type": "stream",
          "text": [
            "<ipython-input-18-ed2ef0182076>:2: UserWarning: `Model.fit_generator` is deprecated and will be removed in a future version. Please use `Model.fit`, which supports generators.\n",
            "  history = model.fit_generator(\n"
          ]
        },
        {
          "metadata": {
            "tags": null
          },
          "name": "stdout",
          "output_type": "stream",
          "text": [
            "1336/1336 [==============================] - ETA: 0s - loss: 0.5631 - accuracy: 0.7150"
          ]
        },
        {
          "output_type": "stream",
          "name": "stderr",
          "text": [
            "WARNING:tensorflow:Learning rate reduction is conditioned on metric `val_acc` which is not available. Available metrics are: loss,accuracy,val_loss,val_accuracy,lr\n"
          ]
        },
        {
          "output_type": "stream",
          "name": "stdout",
          "text": [
            "\b\b\b\b\b\b\b\b\b\b\b\b\b\b\b\b\b\b\b\b\b\b\b\b\b\b\b\b\b\b\b\b\b\b\b\b\b\b\b\b\b\b\b\b\b\b\b\b\b\b\b\b\b\b\b\b\b\b\b\b\b\b\b\b\b\b\b\b\b\b\b\b\b\b\b\b\b\b\b\b\b\b\b\b\b\b\r1336/1336 [==============================] - 3947s 3s/step - loss: 0.5631 - accuracy: 0.7150 - val_loss: 0.5091 - val_accuracy: 0.7505 - lr: 0.0010\n"
          ]
        }
      ]
    },
    {
      "cell_type": "code",
      "source": [
        "model.save(\"model1_cats-dogs_10epoch.h5\")"
      ],
      "metadata": {
        "id": "CIGoErJdhYuF"
      },
      "execution_count": null,
      "outputs": []
    },
    {
      "cell_type": "code",
      "source": [
        "import os\n",
        "test_filenames = os.listdir(\"/content/drive/MyDrive/machime-data/Cat-and-dogs/test\")\n",
        "test_df = pd.DataFrame({\n",
        "    'filename': test_filenames\n",
        "})\n",
        "#nb_samples= test_df.shape[0]"
      ],
      "metadata": {
        "id": "AmcQZogYydkc"
      },
      "execution_count": null,
      "outputs": []
    },
    {
      "cell_type": "code",
      "source": [
        "acc = history.history['accuracy']\n",
        "val_acc = history.history['val_accuracy']\n",
        "\n",
        "loss = history.history['loss']\n",
        "val_loss = history.history['val_loss']\n",
        "\n",
        "epochs_range = range(EPOCHS)\n",
        "\n",
        "plt.figure(figsize=(8, 8))\n",
        "plt.subplot(1, 2, 1)\n",
        "plt.plot(epochs_range, acc, label='Training Accuracy')\n",
        "plt.plot(epochs_range, val_acc, label='Validation Accuracy')\n",
        "plt.legend(loc='lower right')\n",
        "plt.title('Training and Validation Accuracy')\n",
        "\n",
        "plt.subplot(1, 2, 2)\n",
        "plt.plot(epochs_range, loss, label='Training Loss')\n",
        "plt.plot(epochs_range, val_loss, label='Validation Loss')\n",
        "plt.legend(loc='upper right')\n",
        "plt.title('Training and Validation Loss')\n",
        "plt.savefig('./foo.png')\n",
        "plt.show()"
      ],
      "metadata": {
        "id": "Qh2VFuubyrTD"
      },
      "execution_count": null,
      "outputs": []
    }
  ]
}